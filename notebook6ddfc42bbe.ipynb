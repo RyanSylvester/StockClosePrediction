{
 "cells": [
  {
   "cell_type": "code",
   "execution_count": 1,
   "id": "105d76b5",
   "metadata": {
    "_cell_guid": "b1076dfc-b9ad-4769-8c92-a6c4dae69d19",
    "_uuid": "8f2839f25d086af736a60e9eeb907d3b93b6e0e5",
    "execution": {
     "iopub.execute_input": "2023-11-18T20:02:03.485489Z",
     "iopub.status.busy": "2023-11-18T20:02:03.484459Z",
     "iopub.status.idle": "2023-11-18T20:02:04.332645Z",
     "shell.execute_reply": "2023-11-18T20:02:04.331428Z"
    },
    "papermill": {
     "duration": 0.855149,
     "end_time": "2023-11-18T20:02:04.335444",
     "exception": false,
     "start_time": "2023-11-18T20:02:03.480295",
     "status": "completed"
    },
    "tags": []
   },
   "outputs": [],
   "source": [
    "import numpy as np # linear algebra\n",
    "import pandas as pd # data processing, CSV file I/O (e.g. pd.read_csv)\n",
    "import os"
   ]
  },
  {
   "cell_type": "code",
   "execution_count": 2,
   "id": "ca388c96",
   "metadata": {
    "execution": {
     "iopub.execute_input": "2023-11-18T20:02:04.341312Z",
     "iopub.status.busy": "2023-11-18T20:02:04.340825Z",
     "iopub.status.idle": "2023-11-18T20:02:04.359225Z",
     "shell.execute_reply": "2023-11-18T20:02:04.358132Z"
    },
    "papermill": {
     "duration": 0.025312,
     "end_time": "2023-11-18T20:02:04.363155",
     "exception": false,
     "start_time": "2023-11-18T20:02:04.337843",
     "status": "completed"
    },
    "tags": []
   },
   "outputs": [
    {
     "name": "stdout",
     "output_type": "stream",
     "text": [
      "public_timeseries_testing_util.py\n",
      "train.csv\n",
      "sample_submission.csv\n",
      "revealed_targets.csv\n",
      "test.csv\n",
      "competition.cpython-310-x86_64-linux-gnu.so\n",
      "__init__.py\n"
     ]
    }
   ],
   "source": [
    "for dirname, _, filenames in os.walk('/kaggle/input'):\n",
    "    for filename in filenames:\n",
    "        print(filename)\n",
    "        if filename == \"test_essays.csv\":\n",
    "            test = pd.read_csv(os.path.join(dirname, filename))\n",
    "        if filename == \"train_essays.csv\":\n",
    "            train = pd.read_csv(os.path.join(dirname, filename))\n",
    "        if filename == \"train_essays_RDizzl3_seven_v2.csv\":\n",
    "            generated_text = pd.read_csv(os.path.join(dirname, filename))"
   ]
  }
 ],
 "metadata": {
  "kaggle": {
   "accelerator": "none",
   "dataSources": [
    {
     "databundleVersionId": 7056235,
     "sourceId": 57891,
     "sourceType": "competition"
    }
   ],
   "dockerImageVersionId": 30587,
   "isGpuEnabled": false,
   "isInternetEnabled": true,
   "language": "python",
   "sourceType": "notebook"
  },
  "kernelspec": {
   "display_name": "Python 3",
   "language": "python",
   "name": "python3"
  },
  "language_info": {
   "codemirror_mode": {
    "name": "ipython",
    "version": 3
   },
   "file_extension": ".py",
   "mimetype": "text/x-python",
   "name": "python",
   "nbconvert_exporter": "python",
   "pygments_lexer": "ipython3",
   "version": "3.10.12"
  },
  "papermill": {
   "default_parameters": {},
   "duration": 5.779076,
   "end_time": "2023-11-18T20:02:04.785721",
   "environment_variables": {},
   "exception": null,
   "input_path": "__notebook__.ipynb",
   "output_path": "__notebook__.ipynb",
   "parameters": {},
   "start_time": "2023-11-18T20:01:59.006645",
   "version": "2.4.0"
  }
 },
 "nbformat": 4,
 "nbformat_minor": 5
}
